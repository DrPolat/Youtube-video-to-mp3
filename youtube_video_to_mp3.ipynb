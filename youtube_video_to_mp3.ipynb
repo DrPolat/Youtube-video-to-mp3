{
  "nbformat": 4,
  "nbformat_minor": 0,
  "metadata": {
    "colab": {
      "provenance": []
    },
    "kernelspec": {
      "name": "python3",
      "display_name": "Python 3"
    },
    "language_info": {
      "name": "python"
    }
  },
  "cells": [
    {
      "cell_type": "code",
      "source": [
        "pip install pytube"
      ],
      "metadata": {
        "colab": {
          "base_uri": "https://localhost:8080/"
        },
        "id": "0wBndMYfu12B",
        "outputId": "c11084fd-c92f-4252-afa7-72df5f48cb06"
      },
      "execution_count": 6,
      "outputs": [
        {
          "output_type": "stream",
          "name": "stdout",
          "text": [
            "Collecting pytube\n",
            "  Downloading pytube-15.0.0-py3-none-any.whl (57 kB)\n",
            "\u001b[?25l     \u001b[90m━━━━━━━━━━━━━━━━━━━━━━━━━━━━━━━━━━━━━━━━\u001b[0m \u001b[32m0.0/57.6 kB\u001b[0m \u001b[31m?\u001b[0m eta \u001b[36m-:--:--\u001b[0m\r\u001b[2K     \u001b[91m━━━━━━━━━━━━━━━━━━━━━━━━━━━━━━━━━━━\u001b[0m\u001b[91m╸\u001b[0m\u001b[90m━━━━\u001b[0m \u001b[32m51.2/57.6 kB\u001b[0m \u001b[31m1.6 MB/s\u001b[0m eta \u001b[36m0:00:01\u001b[0m\r\u001b[2K     \u001b[90m━━━━━━━━━━━━━━━━━━━━━━━━━━━━━━━━━━━━━━━━\u001b[0m \u001b[32m57.6/57.6 kB\u001b[0m \u001b[31m1.3 MB/s\u001b[0m eta \u001b[36m0:00:00\u001b[0m\n",
            "\u001b[?25hInstalling collected packages: pytube\n",
            "Successfully installed pytube-15.0.0\n"
          ]
        }
      ]
    },
    {
      "cell_type": "code",
      "source": [
        "from pytube import YouTube\n",
        "\n",
        "def download_youtube_audio(video_url):\n",
        "    yt = YouTube(video_url)\n",
        "    stream = yt.streams.filter(only_audio=True).first()\n",
        "    audio_file_path = yt.title + \".mp3\"  # Output audio file path\n",
        "\n",
        "    stream.download(filename=audio_file_path)\n",
        "\n",
        "    return audio_file_path\n",
        "\n",
        "# Main code flow\n",
        "video_url = \"https://www.youtube.com/watch?v=GxyjWhz5VT0\"\n",
        "audio_file_path = download_youtube_audio(video_url)"
      ],
      "metadata": {
        "id": "0MI21RmMwNpi"
      },
      "execution_count": 12,
      "outputs": []
    },
    {
      "cell_type": "code",
      "source": [
        "from pytube import YouTube\n",
        "\n",
        "def download_youtube_audio(video_url):\n",
        "    yt = YouTube(video_url)\n",
        "    stream = yt.streams.filter(only_audio=True).first()\n",
        "    audio_file_path = yt.title + \".webm\"  # Output audio file path\n",
        "\n",
        "    stream.download(filename=audio_file_path)\n",
        "\n",
        "    return audio_file_path\n",
        "\n",
        "# Main code flow\n",
        "video_url = \"https://www.youtube.com/watch?v=GxyjWhz5VT0\"\n",
        "audio_file_path = download_youtube_audio(video_url)"
      ],
      "metadata": {
        "id": "u88kqzTMz0vp"
      },
      "execution_count": null,
      "outputs": []
    },
    {
      "cell_type": "code",
      "source": [
        "from pytube import YouTube\n",
        "\n",
        "def download_youtube_audio(video_url):\n",
        "    yt = YouTube(video_url)\n",
        "    stream = yt.streams.filter(only_audio=True).first()\n",
        "    audio_file_path = yt.title + \".wav\"  # Output audio file path\n",
        "\n",
        "    stream.download(filename=audio_file_path)\n",
        "\n",
        "    return audio_file_path\n",
        "\n",
        "# Main code flow\n",
        "video_url = \"https://www.youtube.com/watch?v=GxyjWhz5VT0\"\n",
        "audio_file_path = download_youtube_audio(video_url)"
      ],
      "metadata": {
        "id": "Lxg4GCMOz6sH"
      },
      "execution_count": null,
      "outputs": []
    }
  ]
}